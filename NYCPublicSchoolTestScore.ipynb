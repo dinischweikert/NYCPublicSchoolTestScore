{
 "cells": [
  {
   "cell_type": "markdown",
   "id": "881faffa-763e-4a27-960f-3c3b0ba0f6f9",
   "metadata": {},
   "source": [
    "# NYC Public School Test Result Scores"
   ]
  },
  {
   "cell_type": "markdown",
   "id": "fe0ea788-58dd-459e-8976-fafdb5c05c6d",
   "metadata": {},
   "source": [
    "![New York City schoolbus](schoolbus.jpg)\n",
    "\n",
    "Photo by [Jannis Lucas](https://unsplash.com/@jannis_lucas) on [Unsplash](https://unsplash.com).\n",
    "<br>\n",
    "\n",
    "Every year, American high school students take SATs, which are standardized tests intended to measure literacy, numeracy, and writing skills. There are three sections - reading, math, and writing, each with a **maximum score of 800 points**. These tests are extremely important for students and colleges, as they play a pivotal role in the admissions process.\n",
    "\n",
    "Analyzing the performance of schools is important for a variety of stakeholders, including policy and education professionals, researchers, government, and even parents considering which school their children should attend. \n",
    "\n",
    "You have been provided with a dataset called `schools.csv`, which is previewed below.\n",
    "\n",
    "You have been tasked with answering three key questions about New York City (NYC) public school SAT performance."
   ]
  },
  {
   "cell_type": "code",
   "execution_count": 60,
   "id": "d0eb4f16-5a99-460d-a5ba-706b7ef0bbe7",
   "metadata": {
    "executionCancelledAt": null,
    "executionTime": 28,
    "id": "bA5ajAmk7XH6",
    "lastExecutedAt": 1741546841740,
    "lastExecutedByKernel": "778a33f3-c1b3-4cc2-aeca-763d29b3907d",
    "lastScheduledRunId": null,
    "lastSuccessfullyExecutedCode": "# Re-run this cell \nimport pandas as pd\n\n# Read in the data\nschools = pd.read_csv(\"schools.csv\")\n\n# Preview the data\nschools.head()\n\n",
    "outputsMetadata": {
     "0": {
      "height": 262,
      "tableState": {
       "customFilter": {
        "const": {
         "type": "boolean",
         "valid": true,
         "value": true
        },
        "id": "0a4a1245-210c-4ce2-9dc3-5eb09d542a02",
        "nodeType": "const"
       },
       "quickFilterText": ""
      },
      "type": "dataFrame"
     }
    }
   },
   "outputs": [
    {
     "data": {
      "application/com.datacamp.data-table.v2+json": {
       "table": {
        "data": {
         "average_math": [
          657,
          395,
          418,
          613,
          410
         ],
         "average_reading": [
          601,
          411,
          428,
          453,
          406
         ],
         "average_writing": [
          601,
          387,
          415,
          463,
          381
         ],
         "borough": [
          "Manhattan",
          "Manhattan",
          "Manhattan",
          "Manhattan",
          "Manhattan"
         ],
         "building_code": [
          "M022",
          "M445",
          "M445",
          "M445",
          "M056"
         ],
         "index": [
          0,
          1,
          2,
          3,
          4
         ],
         "percent_tested": [
          null,
          78.9,
          65.1,
          95.9,
          59.7
         ],
         "school_name": [
          "New Explorations into Science, Technology and Math High School",
          "Essex Street Academy",
          "Lower Manhattan Arts Academy",
          "High School for Dual Language and Asian Studies",
          "Henry Street School for International Studies"
         ]
        },
        "schema": {
         "fields": [
          {
           "name": "index",
           "type": "integer"
          },
          {
           "name": "school_name",
           "type": "string"
          },
          {
           "name": "borough",
           "type": "string"
          },
          {
           "name": "building_code",
           "type": "string"
          },
          {
           "name": "average_math",
           "type": "integer"
          },
          {
           "name": "average_reading",
           "type": "integer"
          },
          {
           "name": "average_writing",
           "type": "integer"
          },
          {
           "name": "percent_tested",
           "type": "number"
          }
         ],
         "pandas_version": "1.4.0",
         "primaryKey": [
          "index"
         ]
        }
       },
       "total_rows": 5,
       "truncation_type": null
      },
      "text/html": [
       "<div>\n",
       "<style scoped>\n",
       "    .dataframe tbody tr th:only-of-type {\n",
       "        vertical-align: middle;\n",
       "    }\n",
       "\n",
       "    .dataframe tbody tr th {\n",
       "        vertical-align: top;\n",
       "    }\n",
       "\n",
       "    .dataframe thead th {\n",
       "        text-align: right;\n",
       "    }\n",
       "</style>\n",
       "<table border=\"1\" class=\"dataframe\">\n",
       "  <thead>\n",
       "    <tr style=\"text-align: right;\">\n",
       "      <th></th>\n",
       "      <th>school_name</th>\n",
       "      <th>borough</th>\n",
       "      <th>building_code</th>\n",
       "      <th>average_math</th>\n",
       "      <th>average_reading</th>\n",
       "      <th>average_writing</th>\n",
       "      <th>percent_tested</th>\n",
       "    </tr>\n",
       "  </thead>\n",
       "  <tbody>\n",
       "    <tr>\n",
       "      <th>0</th>\n",
       "      <td>New Explorations into Science, Technology and ...</td>\n",
       "      <td>Manhattan</td>\n",
       "      <td>M022</td>\n",
       "      <td>657</td>\n",
       "      <td>601</td>\n",
       "      <td>601</td>\n",
       "      <td>NaN</td>\n",
       "    </tr>\n",
       "    <tr>\n",
       "      <th>1</th>\n",
       "      <td>Essex Street Academy</td>\n",
       "      <td>Manhattan</td>\n",
       "      <td>M445</td>\n",
       "      <td>395</td>\n",
       "      <td>411</td>\n",
       "      <td>387</td>\n",
       "      <td>78.9</td>\n",
       "    </tr>\n",
       "    <tr>\n",
       "      <th>2</th>\n",
       "      <td>Lower Manhattan Arts Academy</td>\n",
       "      <td>Manhattan</td>\n",
       "      <td>M445</td>\n",
       "      <td>418</td>\n",
       "      <td>428</td>\n",
       "      <td>415</td>\n",
       "      <td>65.1</td>\n",
       "    </tr>\n",
       "    <tr>\n",
       "      <th>3</th>\n",
       "      <td>High School for Dual Language and Asian Studies</td>\n",
       "      <td>Manhattan</td>\n",
       "      <td>M445</td>\n",
       "      <td>613</td>\n",
       "      <td>453</td>\n",
       "      <td>463</td>\n",
       "      <td>95.9</td>\n",
       "    </tr>\n",
       "    <tr>\n",
       "      <th>4</th>\n",
       "      <td>Henry Street School for International Studies</td>\n",
       "      <td>Manhattan</td>\n",
       "      <td>M056</td>\n",
       "      <td>410</td>\n",
       "      <td>406</td>\n",
       "      <td>381</td>\n",
       "      <td>59.7</td>\n",
       "    </tr>\n",
       "  </tbody>\n",
       "</table>\n",
       "</div>"
      ],
      "text/plain": [
       "                                         school_name  ... percent_tested\n",
       "0  New Explorations into Science, Technology and ...  ...            NaN\n",
       "1                               Essex Street Academy  ...           78.9\n",
       "2                       Lower Manhattan Arts Academy  ...           65.1\n",
       "3    High School for Dual Language and Asian Studies  ...           95.9\n",
       "4      Henry Street School for International Studies  ...           59.7\n",
       "\n",
       "[5 rows x 7 columns]"
      ]
     },
     "execution_count": 60,
     "metadata": {
      "application/com.datacamp.data-table.v2+json": {
       "status": "success"
      }
     },
     "output_type": "execute_result"
    }
   ],
   "source": [
    "# import necessary package\n",
    "import pandas as pd\n",
    "\n",
    "# Read in the data\n",
    "schools = pd.read_csv(\"schools.csv\")\n",
    "\n",
    "# Preview the data\n",
    "schools.head()\n",
    "\n"
   ]
  },
  {
   "cell_type": "code",
   "execution_count": 61,
   "id": "1c0986c9-cc80-4916-8cf8-ff1fb4107848",
   "metadata": {
    "executionCancelledAt": null,
    "executionTime": 56,
    "lastExecutedAt": 1741546841796,
    "lastExecutedByKernel": "778a33f3-c1b3-4cc2-aeca-763d29b3907d",
    "lastScheduledRunId": null,
    "lastSuccessfullyExecutedCode": "# Top math schools\nbest_math_schools = schools.loc[schools['average_math']/800 >= 0.8].sort_values('average_math', ascending=False)\n\nbest_math_schools = best_math_schools[['school_name', 'average_math']]"
   },
   "outputs": [],
   "source": [
    "# Top math schools\n",
    "best_math_schools = schools.loc[schools['average_math']/800 >= 0.8].sort_values('average_math', ascending=False)\n",
    "\n",
    "best_math_schools = best_math_schools[['school_name', 'average_math']]"
   ]
  },
  {
   "cell_type": "code",
   "execution_count": 62,
   "id": "84e5f853-1b95-4ae7-8f8e-dfeb8872e5e7",
   "metadata": {
    "executionCancelledAt": null,
    "executionTime": 54,
    "lastExecutedAt": 1741546841850,
    "lastExecutedByKernel": "778a33f3-c1b3-4cc2-aeca-763d29b3907d",
    "lastScheduledRunId": null,
    "lastSuccessfullyExecutedCode": "print(\"Top math schools (80%+ math score)\")\nprint(best_math_schools)",
    "outputsMetadata": {
     "0": {
      "height": 500,
      "type": "stream"
     }
    }
   },
   "outputs": [
    {
     "name": "stdout",
     "output_type": "stream",
     "text": [
      "Top math schools (80%+ math score)\n",
      "                                           school_name  average_math\n",
      "88                              Stuyvesant High School           754\n",
      "170                       Bronx High School of Science           714\n",
      "93                 Staten Island Technical High School           711\n",
      "365  Queens High School for the Sciences at York Co...           701\n",
      "68   High School for Mathematics, Science, and Engi...           683\n",
      "280                     Brooklyn Technical High School           682\n",
      "333                        Townsend Harris High School           680\n",
      "174  High School of American Studies at Lehman College           669\n",
      "0    New Explorations into Science, Technology and ...           657\n",
      "45                       Eleanor Roosevelt High School           641\n"
     ]
    }
   ],
   "source": [
    "print(\"Top math schools (80%+ math score)\")\n",
    "print(best_math_schools)"
   ]
  },
  {
   "cell_type": "code",
   "execution_count": 63,
   "id": "5990aa7b-ee7b-4a39-b2da-20b64e06ecc9",
   "metadata": {
    "executionCancelledAt": null,
    "executionTime": 51,
    "lastExecutedAt": 1741546841902,
    "lastExecutedByKernel": "778a33f3-c1b3-4cc2-aeca-763d29b3907d",
    "lastScheduledRunId": null,
    "lastSuccessfullyExecutedCode": "# Top 10 schools (highest total SAT score)\nschools['total_SAT'] = schools['average_math']  + schools['average_reading']  + schools['average_writing'] \n\ntop_10_schools = schools.sort_values('total_SAT', ascending=False).iloc[:10]\n\ntop_10_schools = top_10_schools[['school_name', 'total_SAT']]",
    "outputsMetadata": {
     "0": {
      "height": 50,
      "tableState": {
       "customFilter": {
        "const": {
         "type": "boolean",
         "valid": true,
         "value": true
        },
        "id": "0a4a1245-210c-4ce2-9dc3-5eb09d542a02",
        "nodeType": "const"
       },
       "quickFilterText": ""
      },
      "type": "dataFrame"
     }
    }
   },
   "outputs": [],
   "source": [
    "# Top 10 schools (highest total SAT score)\n",
    "schools['total_SAT'] = schools['average_math']  + schools['average_reading']  + schools['average_writing'] \n",
    "\n",
    "top_10_schools = schools.sort_values('total_SAT', ascending=False).iloc[:10]\n",
    "\n",
    "top_10_schools = top_10_schools[['school_name', 'total_SAT']]"
   ]
  },
  {
   "cell_type": "code",
   "execution_count": 64,
   "id": "fa545ffa-564d-441c-acbe-dd3ef0cab908",
   "metadata": {
    "collapsed": true,
    "executionCancelledAt": null,
    "executionTime": 56,
    "jupyter": {
     "outputs_hidden": true,
     "source_hidden": false
    },
    "lastExecutedAt": 1741546841959,
    "lastExecutedByKernel": "778a33f3-c1b3-4cc2-aeca-763d29b3907d",
    "lastScheduledRunId": null,
    "lastSuccessfullyExecutedCode": "print(\"Top 10 schools for SAT scores: \")\nprint(top_10_schools)",
    "outputsMetadata": {
     "0": {
      "height": 542,
      "type": "stream"
     }
    }
   },
   "outputs": [
    {
     "name": "stdout",
     "output_type": "stream",
     "text": [
      "Top 10 schools for SAT scores: \n",
      "                                           school_name  total_SAT\n",
      "88                              Stuyvesant High School       2144\n",
      "170                       Bronx High School of Science       2041\n",
      "93                 Staten Island Technical High School       2041\n",
      "174  High School of American Studies at Lehman College       2013\n",
      "333                        Townsend Harris High School       1981\n",
      "365  Queens High School for the Sciences at York Co...       1947\n",
      "5                       Bard High School Early College       1914\n",
      "280                     Brooklyn Technical High School       1896\n",
      "45                       Eleanor Roosevelt High School       1889\n",
      "68   High School for Mathematics, Science, and Engi...       1889\n"
     ]
    }
   ],
   "source": [
    "print(\"Top 10 schools for SAT scores: \")\n",
    "print(top_10_schools)"
   ]
  },
  {
   "cell_type": "code",
   "execution_count": 65,
   "id": "4d9b61f7-a7bf-4ace-a2e6-d3dca5ff938b",
   "metadata": {
    "executionCancelledAt": null,
    "executionTime": 55,
    "lastExecutedAt": 1741546842014,
    "lastExecutedByKernel": "778a33f3-c1b3-4cc2-aeca-763d29b3907d",
    "lastScheduledRunId": null,
    "lastSuccessfullyExecutedCode": "# borough with largest standard deviation\n\n# group by borough and get std dev and mean of total SAT score\nlargest_std_dev = schools.groupby('borough')['total_SAT'].agg(['std', 'mean', 'count']).round(2)\n\nlargest_std_dev = largest_std_dev.loc[largest_std_dev['std'] == largest_std_dev['std'].max()]\n\n# borough w/ largest std dev\nlargest_std_dev = largest_std_dev.loc[largest_std_dev['std'] == largest_std_dev['std'].max()]\n\n# rename columns\nlargest_std_dev = largest_std_dev.rename(columns = {'count':'num_schools', 'mean':'average_SAT', 'std':'std_SAT'})",
    "outputsMetadata": {
     "0": {
      "height": 50,
      "tableState": {
       "customFilter": {
        "const": {
         "type": "boolean",
         "valid": true,
         "value": true
        },
        "id": "0a4a1245-210c-4ce2-9dc3-5eb09d542a02",
        "nodeType": "const"
       },
       "quickFilterText": ""
      },
      "type": "dataFrame"
     }
    }
   },
   "outputs": [],
   "source": [
    "# borough with largest standard deviation\n",
    "\n",
    "# group by borough and get std dev and mean of total SAT score\n",
    "largest_std_dev = schools.groupby('borough')['total_SAT'].agg(['std', 'mean', 'count']).round(2)\n",
    "\n",
    "largest_std_dev = largest_std_dev.loc[largest_std_dev['std'] == largest_std_dev['std'].max()]\n",
    "\n",
    "# borough w/ largest std dev\n",
    "largest_std_dev = largest_std_dev.loc[largest_std_dev['std'] == largest_std_dev['std'].max()]\n",
    "\n",
    "# rename columns\n",
    "largest_std_dev = largest_std_dev.rename(columns = {'count':'num_schools', 'mean':'average_SAT', 'std':'std_SAT'})"
   ]
  },
  {
   "cell_type": "code",
   "execution_count": 66,
   "id": "5c7477fb-f6a7-40d4-ba68-db0452cc0c68",
   "metadata": {
    "executionCancelledAt": null,
    "executionTime": 56,
    "lastExecutedAt": 1741546842070,
    "lastExecutedByKernel": "778a33f3-c1b3-4cc2-aeca-763d29b3907d",
    "lastScheduledRunId": null,
    "lastSuccessfullyExecutedCode": "print('Borough with the largest standard deviation in total SAT score')\nprint(largest_std_dev)",
    "outputsMetadata": {
     "0": {
      "height": 101,
      "type": "stream"
     }
    }
   },
   "outputs": [
    {
     "name": "stdout",
     "output_type": "stream",
     "text": [
      "Borough with the largest standard deviation in total SAT score\n",
      "           std_SAT  average_SAT  num_schools\n",
      "borough                                     \n",
      "Manhattan   230.29      1340.13           89\n"
     ]
    }
   ],
   "source": [
    "print('Borough with the largest standard deviation in total SAT score')\n",
    "print(largest_std_dev)"
   ]
  }
 ],
 "metadata": {
  "editor": "DataLab",
  "kernelspec": {
   "display_name": "Python 3 (ipykernel)",
   "language": "python",
   "name": "python3"
  },
  "language_info": {
   "codemirror_mode": {
    "name": "ipython",
    "version": 3
   },
   "file_extension": ".py",
   "mimetype": "text/x-python",
   "name": "python",
   "nbconvert_exporter": "python",
   "pygments_lexer": "ipython3",
   "version": "3.9.6"
  }
 },
 "nbformat": 4,
 "nbformat_minor": 5
}
